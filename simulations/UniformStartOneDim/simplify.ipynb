{
 "cells": [
  {
   "cell_type": "code",
   "execution_count": 2,
   "id": "2b755078-d583-4f23-9c4e-845f4095e171",
   "metadata": {
    "tags": []
   },
   "outputs": [],
   "source": [
    "import sys\n",
    "sys.path.append(\"/Users/jameskitchens/Documents/GitHub/sparg\")\n",
    "\n",
    "import sparg\n",
    "\n",
    "import importlib\n",
    "importlib.reload(sparg)\n",
    "\n",
    "import tskit\n",
    "import math\n",
    "import numpy as np\n",
    "import pandas as pd\n",
    "import random\n",
    "import warnings\n",
    "import matplotlib.pyplot as plt"
   ]
  },
  {
   "cell_type": "code",
   "execution_count": 19,
   "id": "42993761-6595-4807-ba6a-d322985b2c60",
   "metadata": {
    "tags": []
   },
   "outputs": [],
   "source": [
    "# set seed\n",
    "np.random.seed(5)\n",
    "\n",
    "# load and filter the tree sequence\n",
    "cutoff = 2000\n",
    "ts = tskit.load(\"outputs/original/S025_I1_R2_W10000_D1/rep4_S025_I1_R2_W10000_D1.trees\")"
   ]
  },
  {
   "cell_type": "code",
   "execution_count": 20,
   "id": "0a7d6077-5664-46f4-ae71-396fa3f0d92a",
   "metadata": {
    "tags": []
   },
   "outputs": [],
   "source": [
    "locations = ts.tables.individuals.location\n",
    "x = locations[::3]\n",
    "y = locations[1::3]\n",
    "central_individuals = np.where((x - 5000)**2 < 500**2)[0]\n",
    "appropriate_samples = np.where((ts.tables.nodes.flags == 1) & np.isin(ts.tables.nodes.individual, central_individuals))[0]"
   ]
  },
  {
   "cell_type": "code",
   "execution_count": 21,
   "id": "5aa87fab-b111-4d10-b6dc-f98c9ffcebfc",
   "metadata": {
    "tags": []
   },
   "outputs": [],
   "source": [
    "samples = list(np.random.choice(appropriate_samples, 500, replace=False))\n",
    "ts_sim, map_sim = ts.simplify(samples=samples, map_nodes=True, keep_input_roots=False, keep_unary=True, update_sample_flags=False)\n",
    "ts_final, maps_final = sparg.simplify_with_recombination(ts=ts_sim, flag_recomb=True)\n",
    "ts_chopped = sparg.chop_arg(ts=ts_final, time=cutoff)"
   ]
  },
  {
   "cell_type": "code",
   "execution_count": 22,
   "id": "b5e5a632-9ffa-4373-ae15-55c95c0e932a",
   "metadata": {
    "tags": []
   },
   "outputs": [],
   "source": [
    "ts_chopped.dump(\"outputs/simplified/S025_I1_R2_W10000_D1/rep4_S025_I1_R2_W10000_D1_N05.trees\")"
   ]
  },
  {
   "cell_type": "code",
   "execution_count": null,
   "id": "78945d41-426c-43cd-84c7-d51c585d37ff",
   "metadata": {},
   "outputs": [],
   "source": []
  }
 ],
 "metadata": {
  "kernelspec": {
   "display_name": "Python 3 (ipykernel)",
   "language": "python",
   "name": "python3"
  },
  "language_info": {
   "codemirror_mode": {
    "name": "ipython",
    "version": 3
   },
   "file_extension": ".py",
   "mimetype": "text/x-python",
   "name": "python",
   "nbconvert_exporter": "python",
   "pygments_lexer": "ipython3",
   "version": "3.10.12"
  }
 },
 "nbformat": 4,
 "nbformat_minor": 5
}
