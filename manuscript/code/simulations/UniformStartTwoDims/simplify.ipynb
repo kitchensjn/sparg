{
 "cells": [
  {
   "cell_type": "code",
   "execution_count": 5,
   "id": "68eb726b-fe00-485a-aa9b-648680d2930a",
   "metadata": {
    "tags": []
   },
   "outputs": [],
   "source": [
    "import sys\n",
    "sys.path.append(\"/Users/jameskitchens/Documents/GitHub/sparg\")\n",
    "\n",
    "import sparg\n",
    "\n",
    "import importlib\n",
    "importlib.reload(sparg)\n",
    "\n",
    "import tskit\n",
    "import math\n",
    "import numpy as np\n",
    "import pandas as pd\n",
    "import random\n",
    "import warnings\n",
    "import matplotlib.pyplot as plt"
   ]
  },
  {
   "cell_type": "code",
   "execution_count": 6,
   "id": "4b657356-8512-4ef9-85c8-3850e7c36a13",
   "metadata": {
    "tags": []
   },
   "outputs": [],
   "source": [
    "# set seed\n",
    "rs = 2\n",
    "np.random.seed(rs)\n",
    "\n",
    "if rs < 10:\n",
    "    rs = \"0\"+str(rs)\n",
    "else:\n",
    "    rs = str(rs)\n",
    "\n",
    "# load and filter the tree sequence\n",
    "cutoff = 2000\n",
    "ts = tskit.load(\"outputs/original/S025_I1_R2_W300_D2/rep0_S025_I1_R2_W300_D2.trees\")"
   ]
  },
  {
   "cell_type": "code",
   "execution_count": 7,
   "id": "55e2b77b-4e23-412c-a073-457d28f76df9",
   "metadata": {
    "tags": []
   },
   "outputs": [],
   "source": [
    "locations = ts.tables.individuals.location\n",
    "x = locations[::3]\n",
    "y = locations[1::3]\n",
    "central_individuals = np.where((x - 150)**2 + (y - 150)**2 < 25**2)[0]\n",
    "appropriate_samples = np.where((ts.tables.nodes.flags == 1) & np.isin(ts.tables.nodes.individual, central_individuals))[0]"
   ]
  },
  {
   "cell_type": "code",
   "execution_count": 8,
   "id": "e968c39b-0d45-4e2c-8222-455f7ef1dfcc",
   "metadata": {
    "tags": []
   },
   "outputs": [],
   "source": [
    "samples = list(np.random.choice(appropriate_samples, 500, replace=False))\n",
    "ts_sim, map_sim = ts.simplify(samples=samples, map_nodes=True, keep_input_roots=False, keep_unary=True, update_sample_flags=False)"
   ]
  },
  {
   "cell_type": "code",
   "execution_count": 9,
   "id": "bfb08812-ae21-4101-a7cd-aa35714b3c8a",
   "metadata": {
    "tags": []
   },
   "outputs": [],
   "source": [
    "ts_final, maps_final = sparg.simplify_with_recombination(ts=ts_sim, flag_recomb=True)\n",
    "ts_chopped = sparg.chop_arg(ts=ts_final, time=cutoff)\n",
    "ts_chopped.dump(\"outputs/simplified/S025_I1_R2_W300_D2/rep0_S025_I1_R2_W300_D2_N\" + rs + \".trees\")"
   ]
  },
  {
   "cell_type": "code",
   "execution_count": null,
   "id": "90b3dfd0-9725-4fae-b208-46cfb707529f",
   "metadata": {},
   "outputs": [],
   "source": []
  }
 ],
 "metadata": {
  "kernelspec": {
   "display_name": "Python 3 (ipykernel)",
   "language": "python",
   "name": "python3"
  },
  "language_info": {
   "codemirror_mode": {
    "name": "ipython",
    "version": 3
   },
   "file_extension": ".py",
   "mimetype": "text/x-python",
   "name": "python",
   "nbconvert_exporter": "python",
   "pygments_lexer": "ipython3",
   "version": "3.12.2"
  }
 },
 "nbformat": 4,
 "nbformat_minor": 5
}
